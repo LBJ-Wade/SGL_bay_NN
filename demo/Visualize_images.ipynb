{
 "cells": [
  {
   "cell_type": "code",
   "execution_count": 10,
   "metadata": {},
   "outputs": [
    {
     "name": "stdout",
     "output_type": "stream",
     "text": [
      "The autoreload extension is already loaded. To reload it, use:\n",
      "  %reload_ext autoreload\n"
     ]
    }
   ],
   "source": [
    "import os, sys\n",
    "import numpy as np\n",
    "import matplotlib.pyplot as plt\n",
    "import pandas as pd\n",
    "import scipy.stats as stats\n",
    "from astropy.visualization import MinMaxInterval, AsinhStretch, ImageNormalize\n",
    "from baobab import bnn_priors\n",
    "from baobab.configs import Config, tdlmc_diagonal_config\n",
    "%matplotlib inline\n",
    "%load_ext autoreload\n",
    "%autoreload 2"
   ]
  },
  {
   "cell_type": "markdown",
   "metadata": {},
   "source": [
    "# Visualizing the images\n",
    "\n",
    "__Author:__ Ji Won Park (@jiwoncpark)\n",
    "    \n",
    "__Created:__ 8/30/19\n",
    "    \n",
    "__Last run:__ 9/05/19\n",
    "\n",
    "In this notebook, we'll visualize the images generated with `DiagonalBNNPrior` via the configuration in `tdlmc_diagonal_config.py`."
   ]
  },
  {
   "cell_type": "code",
   "execution_count": 11,
   "metadata": {},
   "outputs": [],
   "source": [
    "cfg = Config.fromfile(tdlmc_diagonal_config.__file__)\n",
    "out_data_dir = os.path.join('..', cfg.out_dir)\n",
    "meta = pd.read_csv(os.path.join(out_data_dir, 'metadata.csv'), index_col=None)\n",
    "bnn_prior = getattr(bnn_priors, cfg.bnn_prior_class)(cfg.bnn_omega, cfg.components)"
   ]
  },
  {
   "cell_type": "code",
   "execution_count": 12,
   "metadata": {},
   "outputs": [],
   "source": [
    "img_files = [fname for fname in os.listdir(out_data_dir) if fname.endswith('.npy')]"
   ]
  },
  {
   "cell_type": "code",
   "execution_count": 13,
   "metadata": {},
   "outputs": [],
   "source": [
    "# TODO: description, asinh scale..."
   ]
  },
  {
   "cell_type": "code",
   "execution_count": 14,
   "metadata": {},
   "outputs": [
    {
     "data": {
      "text/html": [
       "<div>\n",
       "<style scoped>\n",
       "    .dataframe tbody tr th:only-of-type {\n",
       "        vertical-align: middle;\n",
       "    }\n",
       "\n",
       "    .dataframe tbody tr th {\n",
       "        vertical-align: top;\n",
       "    }\n",
       "\n",
       "    .dataframe thead th {\n",
       "        text-align: right;\n",
       "    }\n",
       "</style>\n",
       "<table border=\"1\" class=\"dataframe\">\n",
       "  <thead>\n",
       "    <tr style=\"text-align: right;\">\n",
       "      <th></th>\n",
       "      <th>lens_mass_center_x</th>\n",
       "      <th>lens_mass_center_y</th>\n",
       "      <th>lens_mass_gamma</th>\n",
       "      <th>lens_mass_theta_E</th>\n",
       "      <th>lens_mass_e1</th>\n",
       "      <th>lens_mass_e2</th>\n",
       "      <th>external_shear_gamma_ext</th>\n",
       "      <th>external_shear_psi_ext</th>\n",
       "      <th>src_light_magnitude</th>\n",
       "      <th>src_light_center_x</th>\n",
       "      <th>...</th>\n",
       "      <th>magnification_3</th>\n",
       "      <th>x_image_0</th>\n",
       "      <th>x_image_1</th>\n",
       "      <th>x_image_2</th>\n",
       "      <th>x_image_3</th>\n",
       "      <th>y_image_0</th>\n",
       "      <th>y_image_1</th>\n",
       "      <th>y_image_2</th>\n",
       "      <th>y_image_3</th>\n",
       "      <th>n_img</th>\n",
       "    </tr>\n",
       "  </thead>\n",
       "  <tbody>\n",
       "    <tr>\n",
       "      <td>0</td>\n",
       "      <td>2.075625e-07</td>\n",
       "      <td>9.201310e-08</td>\n",
       "      <td>2.028883</td>\n",
       "      <td>0.980937</td>\n",
       "      <td>0.359001</td>\n",
       "      <td>-0.370142</td>\n",
       "      <td>0.081424</td>\n",
       "      <td>5.936981</td>\n",
       "      <td>24.195606</td>\n",
       "      <td>-0.00047</td>\n",
       "      <td>...</td>\n",
       "      <td>-0.960963</td>\n",
       "      <td>0.3876</td>\n",
       "      <td>-0.416829</td>\n",
       "      <td>-0.753409</td>\n",
       "      <td>0.726166</td>\n",
       "      <td>0.907474</td>\n",
       "      <td>-0.862408</td>\n",
       "      <td>0.309188</td>\n",
       "      <td>-0.33053</td>\n",
       "      <td>4.0</td>\n",
       "    </tr>\n",
       "  </tbody>\n",
       "</table>\n",
       "<p>1 rows × 36 columns</p>\n",
       "</div>"
      ],
      "text/plain": [
       "   lens_mass_center_x  lens_mass_center_y  lens_mass_gamma  lens_mass_theta_E  \\\n",
       "0        2.075625e-07        9.201310e-08         2.028883           0.980937   \n",
       "\n",
       "   lens_mass_e1  lens_mass_e2  external_shear_gamma_ext  \\\n",
       "0      0.359001     -0.370142                  0.081424   \n",
       "\n",
       "   external_shear_psi_ext  src_light_magnitude  src_light_center_x  ...  \\\n",
       "0                5.936981            24.195606            -0.00047  ...   \n",
       "\n",
       "   magnification_3  x_image_0  x_image_1  x_image_2  x_image_3  y_image_0  \\\n",
       "0        -0.960963     0.3876  -0.416829  -0.753409   0.726166   0.907474   \n",
       "\n",
       "   y_image_1  y_image_2  y_image_3  n_img  \n",
       "0  -0.862408   0.309188   -0.33053    4.0  \n",
       "\n",
       "[1 rows x 36 columns]"
      ]
     },
     "execution_count": 14,
     "metadata": {},
     "output_type": "execute_result"
    }
   ],
   "source": [
    "meta.head()"
   ]
  },
  {
   "cell_type": "code",
   "execution_count": 5,
   "metadata": {},
   "outputs": [
    {
     "name": "stdout",
     "output_type": "stream",
     "text": [
      "lens_mass_center_x          2.075625e-07\n",
      "lens_mass_center_y          9.201310e-08\n",
      "lens_mass_gamma             2.028883e+00\n",
      "lens_mass_theta_E           9.809373e-01\n",
      "lens_mass_e1                3.590012e-01\n",
      "lens_mass_e2               -3.701419e-01\n",
      "external_shear_gamma_ext    8.142406e-02\n",
      "external_shear_psi_ext      5.936981e+00\n",
      "src_light_magnitude                  NaN\n",
      "src_light_center_x         -4.698317e-04\n",
      "src_light_center_y          1.820444e-02\n",
      "src_light_n_sersic          1.346057e+00\n",
      "src_light_R_sersic          5.776302e-01\n",
      "src_light_e1                1.325958e-02\n",
      "src_light_e2                2.182799e-01\n",
      "lens_light_magnitude                 NaN\n",
      "lens_light_center_x         2.075625e-07\n",
      "lens_light_center_y         9.201310e-08\n",
      "lens_light_n_sersic         3.126215e+00\n",
      "lens_light_R_sersic         1.176984e+00\n",
      "lens_light_e1               4.530198e-01\n",
      "lens_light_e2               3.935152e-02\n",
      "agn_light_magnitude         2.158845e+01\n",
      "mag_0                       2.558268e+00\n",
      "mag_1                       2.690757e+00\n",
      "mag_2                      -9.992973e-01\n",
      "mag_3                      -9.609629e-01\n",
      "x_image_0                   3.876001e-01\n",
      "x_image_1                  -4.168289e-01\n",
      "x_image_2                  -7.534094e-01\n",
      "x_image_3                   7.261659e-01\n",
      "y_image_0                   9.074738e-01\n",
      "y_image_1                  -8.624083e-01\n",
      "y_image_2                   3.091877e-01\n",
      "y_image_3                  -3.305304e-01\n",
      "n_img                       4.000000e+00\n",
      "Name: 0, dtype: float64\n"
     ]
    },
    {
     "data": {
      "image/png": "[encoded data removed]",
      "text/plain": [
       "<Figure size 432x288 with 2 Axes>"
      ]
     },
     "metadata": {
      "needs_background": "light"
     },
     "output_type": "display_data"
    }
   ],
   "source": [
    "img_idx = 0\n",
    "\n",
    "img_path = os.path.join(out_data_dir, img_files[img_idx])\n",
    "img = np.load(img_path)\n",
    "\n",
    "norm = ImageNormalize(img, interval=MinMaxInterval(), stretch=AsinhStretch())\n",
    "\n",
    "fig = plt.figure()\n",
    "ax = fig.add_subplot(1, 1, 1)\n",
    "im = ax.imshow(img, origin='lower', norm=norm)\n",
    "fig.colorbar(im)\n",
    "\n",
    "print(meta.iloc[img_idx])"
   ]
  },
  {
   "cell_type": "code",
   "execution_count": null,
   "metadata": {},
   "outputs": [],
   "source": []
  },
  {
   "cell_type": "code",
   "execution_count": null,
   "metadata": {},
   "outputs": [],
   "source": []
  }
 ],
 "metadata": {
  "kernelspec": {
   "display_name": "Python (baobab)",
   "language": "python",
   "name": "baobab"
  },
  "language_info": {
   "codemirror_mode": {
    "name": "ipython",
    "version": 3
   },
   "file_extension": ".py",
   "mimetype": "text/x-python",
   "name": "python",
   "nbconvert_exporter": "python",
   "pygments_lexer": "ipython3",
   "version": "3.6.9"
  }
 },
 "nbformat": 4,
 "nbformat_minor": 2
}
